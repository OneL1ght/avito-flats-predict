{
 "cells": [
  {
   "cell_type": "markdown",
   "id": "6774f697",
   "metadata": {},
   "source": [
    "# Проект по предсказанию стоимости жилых квартир города Пермь \n",
    "### Был использован самостоятельно полученный с помощью веб-парсинга датасет с сайта avito.ru\n",
    "Данные актуальны на конец января 2022 года"
   ]
  },
  {
   "cell_type": "code",
   "execution_count": 1,
   "id": "822e3024",
   "metadata": {},
   "outputs": [],
   "source": [
    "import pandas as pd\n",
    "import numpy as np\n",
    "import seaborn as sns\n",
    "import warnings\n",
    "import statsmodels.api as sm\n",
    "warnings.filterwarnings('ignore')\n",
    "\n",
    "from matplotlib import pyplot as plt\n",
    "from sklearn.preprocessing import StandardScaler\n",
    "from sklearn.linear_model import LinearRegression\n",
    "from sklearn.model_selection import train_test_split\n",
    "from sklearn.metrics import mean_absolute_error as mae, r2_score as R2\n",
    "from sklearn.model_selection import cross_val_score as cvs\n",
    "from sklearn.ensemble import GradientBoostingRegressor"
   ]
  },
  {
   "cell_type": "markdown",
   "id": "a7611c6c",
   "metadata": {},
   "source": [
    "## Импорт и начальный вид данных"
   ]
  },
  {
   "cell_type": "code",
   "execution_count": 2,
   "id": "b8116586",
   "metadata": {},
   "outputs": [
    {
     "data": {
      "text/html": [
       "<div>\n",
       "<style scoped>\n",
       "    .dataframe tbody tr th:only-of-type {\n",
       "        vertical-align: middle;\n",
       "    }\n",
       "\n",
       "    .dataframe tbody tr th {\n",
       "        vertical-align: top;\n",
       "    }\n",
       "\n",
       "    .dataframe thead th {\n",
       "        text-align: right;\n",
       "    }\n",
       "</style>\n",
       "<table border=\"1\" class=\"dataframe\">\n",
       "  <thead>\n",
       "    <tr style=\"text-align: right;\">\n",
       "      <th></th>\n",
       "      <th>title</th>\n",
       "      <th>price</th>\n",
       "      <th>address</th>\n",
       "      <th>area</th>\n",
       "      <th>rooms</th>\n",
       "      <th>floors</th>\n",
       "      <th>house_type</th>\n",
       "      <th>construction_date</th>\n",
       "      <th>ceiling_height</th>\n",
       "      <th>link</th>\n",
       "    </tr>\n",
       "  </thead>\n",
       "  <tbody>\n",
       "    <tr>\n",
       "      <th>0</th>\n",
       "      <td>1-к. квартира, 42,3 м кв., 25/25 эт.</td>\n",
       "      <td>4018500.0</td>\n",
       "      <td>ул. Кустовая, д. 2А</td>\n",
       "      <td>42.3</td>\n",
       "      <td>1</td>\n",
       "      <td>25 из 25</td>\n",
       "      <td>монолитный</td>\n",
       "      <td>1 кв. 2023 года</td>\n",
       "      <td>NaN</td>\n",
       "      <td>https://www.avito.ru/perm/kvartiry/1-k._kvarti...</td>\n",
       "    </tr>\n",
       "    <tr>\n",
       "      <th>1</th>\n",
       "      <td>3-к. квартира, 44 м кв., 8/20 эт.</td>\n",
       "      <td>3873760.0</td>\n",
       "      <td>ул. Краснополянская, д. 34</td>\n",
       "      <td>44.0</td>\n",
       "      <td>3</td>\n",
       "      <td>8 из 20</td>\n",
       "      <td>монолитный</td>\n",
       "      <td>3 кв. 2022 года</td>\n",
       "      <td>2.6</td>\n",
       "      <td>https://www.avito.ru/perm/kvartiry/3-k._kvarti...</td>\n",
       "    </tr>\n",
       "    <tr>\n",
       "      <th>2</th>\n",
       "      <td>Квартира-студия, 23,8 м кв., 3/25 эт.</td>\n",
       "      <td>2320000.0</td>\n",
       "      <td>ул. Солдатова, д. 30Б</td>\n",
       "      <td>23.8</td>\n",
       "      <td>студия</td>\n",
       "      <td>3 из 25</td>\n",
       "      <td>монолитный</td>\n",
       "      <td>4 кв. 2023 года</td>\n",
       "      <td>2.6</td>\n",
       "      <td>https://www.avito.ru/perm/kvartiry/kvartira-st...</td>\n",
       "    </tr>\n",
       "    <tr>\n",
       "      <th>3</th>\n",
       "      <td>1-к. квартира, 46,9 м кв., 6/6 эт.</td>\n",
       "      <td>6097000.0</td>\n",
       "      <td>ул. Екатерининская, д. 10</td>\n",
       "      <td>46.9</td>\n",
       "      <td>1</td>\n",
       "      <td>6 из 6</td>\n",
       "      <td>монолитный</td>\n",
       "      <td>2 кв. 2024 года</td>\n",
       "      <td>NaN</td>\n",
       "      <td>https://www.avito.ru/perm/kvartiry/1-k._kvarti...</td>\n",
       "    </tr>\n",
       "    <tr>\n",
       "      <th>4</th>\n",
       "      <td>2-к. квартира, 79,3 м кв., 2/4 эт.</td>\n",
       "      <td>6937875.0</td>\n",
       "      <td>ул. Борцов Революции, д. 1, корп. А, стр. 1</td>\n",
       "      <td>79.3</td>\n",
       "      <td>2</td>\n",
       "      <td>2 из 4</td>\n",
       "      <td>монолитный</td>\n",
       "      <td>4 кв. 2022 года</td>\n",
       "      <td>NaN</td>\n",
       "      <td>https://www.avito.ru/perm/kvartiry/2-k._kvarti...</td>\n",
       "    </tr>\n",
       "    <tr>\n",
       "      <th>5</th>\n",
       "      <td>2-к. квартира, 57,8 м кв., 10/25 эт.</td>\n",
       "      <td>5294480.0</td>\n",
       "      <td>ул. Барамзиной, д. 38</td>\n",
       "      <td>57.8</td>\n",
       "      <td>2</td>\n",
       "      <td>10 из 25</td>\n",
       "      <td>монолитный</td>\n",
       "      <td>4 кв. 2022 года</td>\n",
       "      <td>2.7</td>\n",
       "      <td>https://www.avito.ru/perm/kvartiry/2-k._kvarti...</td>\n",
       "    </tr>\n",
       "    <tr>\n",
       "      <th>6</th>\n",
       "      <td>Квартира-студия, 30,4 м кв., 5/11 эт.</td>\n",
       "      <td>2552760.0</td>\n",
       "      <td>ул. Ласьвинская, д. 15</td>\n",
       "      <td>30.4</td>\n",
       "      <td>студия</td>\n",
       "      <td>5 из 11</td>\n",
       "      <td>кирпичный</td>\n",
       "      <td>1 кв. 2024 года</td>\n",
       "      <td>2.7</td>\n",
       "      <td>https://www.avito.ru/perm/kvartiry/kvartira-st...</td>\n",
       "    </tr>\n",
       "  </tbody>\n",
       "</table>\n",
       "</div>"
      ],
      "text/plain": [
       "                                   title      price  \\\n",
       "0   1-к. квартира, 42,3 м кв., 25/25 эт.  4018500.0   \n",
       "1      3-к. квартира, 44 м кв., 8/20 эт.  3873760.0   \n",
       "2  Квартира-студия, 23,8 м кв., 3/25 эт.  2320000.0   \n",
       "3     1-к. квартира, 46,9 м кв., 6/6 эт.  6097000.0   \n",
       "4     2-к. квартира, 79,3 м кв., 2/4 эт.  6937875.0   \n",
       "5   2-к. квартира, 57,8 м кв., 10/25 эт.  5294480.0   \n",
       "6  Квартира-студия, 30,4 м кв., 5/11 эт.  2552760.0   \n",
       "\n",
       "                                       address  area   rooms    floors  \\\n",
       "0                          ул. Кустовая, д. 2А  42.3       1  25 из 25   \n",
       "1                   ул. Краснополянская, д. 34  44.0       3   8 из 20   \n",
       "2                        ул. Солдатова, д. 30Б  23.8  студия   3 из 25   \n",
       "3                    ул. Екатерининская, д. 10  46.9       1    6 из 6   \n",
       "4  ул. Борцов Революции, д. 1, корп. А, стр. 1  79.3       2    2 из 4   \n",
       "5                        ул. Барамзиной, д. 38  57.8       2  10 из 25   \n",
       "6                       ул. Ласьвинская, д. 15  30.4  студия   5 из 11   \n",
       "\n",
       "   house_type construction_date  ceiling_height  \\\n",
       "0  монолитный   1 кв. 2023 года             NaN   \n",
       "1  монолитный   3 кв. 2022 года             2.6   \n",
       "2  монолитный   4 кв. 2023 года             2.6   \n",
       "3  монолитный   2 кв. 2024 года             NaN   \n",
       "4  монолитный   4 кв. 2022 года             NaN   \n",
       "5  монолитный   4 кв. 2022 года             2.7   \n",
       "6   кирпичный   1 кв. 2024 года             2.7   \n",
       "\n",
       "                                                link  \n",
       "0  https://www.avito.ru/perm/kvartiry/1-k._kvarti...  \n",
       "1  https://www.avito.ru/perm/kvartiry/3-k._kvarti...  \n",
       "2  https://www.avito.ru/perm/kvartiry/kvartira-st...  \n",
       "3  https://www.avito.ru/perm/kvartiry/1-k._kvarti...  \n",
       "4  https://www.avito.ru/perm/kvartiry/2-k._kvarti...  \n",
       "5  https://www.avito.ru/perm/kvartiry/2-k._kvarti...  \n",
       "6  https://www.avito.ru/perm/kvartiry/kvartira-st...  "
      ]
     },
     "execution_count": 2,
     "metadata": {},
     "output_type": "execute_result"
    }
   ],
   "source": [
    "dataset = pd.read_csv('../python_learn/avito_flats.csv')\n",
    "dataset.head(7)"
   ]
  },
  {
   "cell_type": "code",
   "execution_count": 3,
   "id": "65b7f02a",
   "metadata": {},
   "outputs": [],
   "source": [
    "def all_data_tranforms(df, ff=False, tar_norm=False, stand_sc=False):\n",
    "    df = df.copy()\n",
    "    \n",
    "    # DROP\n",
    "    df.drop(['title', 'link', 'address', 'ceiling_height', 'construction_date'], axis=1, inplace=True)\n",
    "    df.dropna(how='all', inplace=True)\n",
    "\n",
    "    # lat, long\n",
    "    coor_df = pd.read_csv('../python_learn/csv_files/coor_avito_flats2.csv')\n",
    "    df['lat'] = coor_df.lat\n",
    "    df['lng'] = coor_df.lng\n",
    "    \n",
    "    # floors etc\n",
    "    fract_floors = []\n",
    "    building_flrs = []\n",
    "    for i in df.floors:\n",
    "        try:\n",
    "    #         print(i.replace(' из ', ','), ' = ', i.replace(' из ', ',').split(',') )\n",
    "            l = i.replace(' из ', ',').split(',')\n",
    "            fract_floors.append(int(l[0])/int(l[1]))\n",
    "            building_flrs.append(int(l[1]))\n",
    "        except AttributeError:\n",
    "            fract_floors.append(i)\n",
    "            building_flrs.append(i)\n",
    "    if ff:\n",
    "        df['fract_flrs'] = fract_floors\n",
    "    df['building_flrs'] = building_flrs\n",
    "    df.drop(['floors'], axis=1, inplace=True)\n",
    "    \n",
    "    # rooms\n",
    "    df.loc[df.rooms == 'студия', ['rooms']] = 0\n",
    "    df.rooms = df.rooms.astype('int')\n",
    "    \n",
    "    # house_type\n",
    "    ht = pd.get_dummies(df.house_type, prefix='type')\n",
    "    df = df.join(ht)\n",
    "    df.drop(['house_type'], axis=1, inplace=True)\n",
    "    \n",
    "    # drop nans in lat, lng\n",
    "    df.dropna(axis=0, inplace=True)\n",
    "    \n",
    "    # price --- target\n",
    "    if tar_norm:\n",
    "        target = np.log(df.price)\n",
    "    else:\n",
    "        target = df.price\n",
    "    df.drop(['price'], axis=1, inplace=True)\n",
    "    \n",
    "    if stand_sc:\n",
    "        scaler = StandardScaler().fit(df)\n",
    "        df = pd.DataFrame(scaler.transform(df))\n",
    "            \n",
    "    return df, target\n",
    "\n",
    "# df, target = all_data_tranforms(dataset)"
   ]
  },
  {
   "cell_type": "code",
   "execution_count": 4,
   "id": "7799f6c4",
   "metadata": {},
   "outputs": [],
   "source": [
    "df, target = all_data_tranforms(dataset)"
   ]
  },
  {
   "cell_type": "code",
   "execution_count": 5,
   "id": "b9fc725d",
   "metadata": {
    "scrolled": true
   },
   "outputs": [
    {
     "data": {
      "text/html": [
       "<div>\n",
       "<style scoped>\n",
       "    .dataframe tbody tr th:only-of-type {\n",
       "        vertical-align: middle;\n",
       "    }\n",
       "\n",
       "    .dataframe tbody tr th {\n",
       "        vertical-align: top;\n",
       "    }\n",
       "\n",
       "    .dataframe thead th {\n",
       "        text-align: right;\n",
       "    }\n",
       "</style>\n",
       "<table border=\"1\" class=\"dataframe\">\n",
       "  <thead>\n",
       "    <tr style=\"text-align: right;\">\n",
       "      <th></th>\n",
       "      <th>area</th>\n",
       "      <th>rooms</th>\n",
       "      <th>lat</th>\n",
       "      <th>lng</th>\n",
       "      <th>building_flrs</th>\n",
       "      <th>type_блочный</th>\n",
       "      <th>type_кирпичный</th>\n",
       "      <th>type_монолитный</th>\n",
       "      <th>type_панельный</th>\n",
       "    </tr>\n",
       "  </thead>\n",
       "  <tbody>\n",
       "    <tr>\n",
       "      <th>0</th>\n",
       "      <td>42.3</td>\n",
       "      <td>1</td>\n",
       "      <td>57.969058</td>\n",
       "      <td>56.270723</td>\n",
       "      <td>25</td>\n",
       "      <td>0</td>\n",
       "      <td>0</td>\n",
       "      <td>1</td>\n",
       "      <td>0</td>\n",
       "    </tr>\n",
       "    <tr>\n",
       "      <th>1</th>\n",
       "      <td>44.0</td>\n",
       "      <td>3</td>\n",
       "      <td>57.967930</td>\n",
       "      <td>56.271902</td>\n",
       "      <td>20</td>\n",
       "      <td>0</td>\n",
       "      <td>0</td>\n",
       "      <td>1</td>\n",
       "      <td>0</td>\n",
       "    </tr>\n",
       "    <tr>\n",
       "      <th>2</th>\n",
       "      <td>23.8</td>\n",
       "      <td>0</td>\n",
       "      <td>57.971481</td>\n",
       "      <td>56.231502</td>\n",
       "      <td>25</td>\n",
       "      <td>0</td>\n",
       "      <td>0</td>\n",
       "      <td>1</td>\n",
       "      <td>0</td>\n",
       "    </tr>\n",
       "    <tr>\n",
       "      <th>3</th>\n",
       "      <td>46.9</td>\n",
       "      <td>1</td>\n",
       "      <td>58.012552</td>\n",
       "      <td>56.252127</td>\n",
       "      <td>6</td>\n",
       "      <td>0</td>\n",
       "      <td>0</td>\n",
       "      <td>1</td>\n",
       "      <td>0</td>\n",
       "    </tr>\n",
       "    <tr>\n",
       "      <th>4</th>\n",
       "      <td>79.3</td>\n",
       "      <td>2</td>\n",
       "      <td>58.027277</td>\n",
       "      <td>56.193065</td>\n",
       "      <td>4</td>\n",
       "      <td>0</td>\n",
       "      <td>0</td>\n",
       "      <td>1</td>\n",
       "      <td>0</td>\n",
       "    </tr>\n",
       "  </tbody>\n",
       "</table>\n",
       "</div>"
      ],
      "text/plain": [
       "   area  rooms        lat        lng  building_flrs  type_блочный  \\\n",
       "0  42.3      1  57.969058  56.270723             25             0   \n",
       "1  44.0      3  57.967930  56.271902             20             0   \n",
       "2  23.8      0  57.971481  56.231502             25             0   \n",
       "3  46.9      1  58.012552  56.252127              6             0   \n",
       "4  79.3      2  58.027277  56.193065              4             0   \n",
       "\n",
       "   type_кирпичный  type_монолитный  type_панельный  \n",
       "0               0                1               0  \n",
       "1               0                1               0  \n",
       "2               0                1               0  \n",
       "3               0                1               0  \n",
       "4               0                1               0  "
      ]
     },
     "execution_count": 5,
     "metadata": {},
     "output_type": "execute_result"
    }
   ],
   "source": [
    "df.head(5)"
   ]
  },
  {
   "cell_type": "code",
   "execution_count": 6,
   "id": "14a619e7",
   "metadata": {},
   "outputs": [
    {
     "data": {
      "text/plain": [
       "((3832, 9), (3832,))"
      ]
     },
     "execution_count": 6,
     "metadata": {},
     "output_type": "execute_result"
    }
   ],
   "source": [
    "df.shape, target.shape"
   ]
  },
  {
   "cell_type": "markdown",
   "id": "8516cd16",
   "metadata": {},
   "source": [
    "# Просмотр и преобразование данных\n",
    "Как были получены признаки итоговой таблицы"
   ]
  },
  {
   "cell_type": "code",
   "execution_count": 78,
   "id": "f24ac992",
   "metadata": {},
   "outputs": [
    {
     "data": {
      "text/plain": [
       "2    1276\n",
       "3    1061\n",
       "1     909\n",
       "0     521\n",
       "4     277\n",
       "Name: rooms, dtype: int64"
      ]
     },
     "execution_count": 78,
     "metadata": {},
     "output_type": "execute_result"
    }
   ],
   "source": [
    "df.rooms.value_counts()"
   ]
  },
  {
   "cell_type": "markdown",
   "id": "b03b5aef",
   "metadata": {},
   "source": [
    "## Координаты"
   ]
  },
  {
   "cell_type": "code",
   "execution_count": 12,
   "id": "a0e240d1",
   "metadata": {},
   "outputs": [
    {
     "data": {
      "image/png": "[encoded data removed]",
      "text/plain": [
       "<Figure size 1152x360 with 1 Axes>"
      ]
     },
     "metadata": {
      "needs_background": "light"
     },
     "output_type": "display_data"
    }
   ],
   "source": [
    "plt.figure(figsize=(16,5))\n",
    "sns.scatterplot(\n",
    "    data=df,\n",
    "    x='lat',\n",
    "    y='lng',\n",
    "    size=target\n",
    ")\n",
    "plt.show()"
   ]
  },
  {
   "cell_type": "code",
   "execution_count": 14,
   "id": "312934df",
   "metadata": {},
   "outputs": [
    {
     "data": {
      "image/png": "[encoded data removed]",
      "text/plain": [
       "<Figure size 936x360 with 1 Axes>"
      ]
     },
     "metadata": {
      "needs_background": "light"
     },
     "output_type": "display_data"
    }
   ],
   "source": [
    "plt.figure(figsize=(13,5))\n",
    "plt.xlim([57.7,58.25])\n",
    "plt.ylim([55.7,56.6])\n",
    "plt.scatter(df.lat, df.lng)\n",
    "plt.show()"
   ]
  },
  {
   "cell_type": "markdown",
   "id": "29f927bc",
   "metadata": {},
   "source": [
    "Координаты это очень условный признак в данном случае. Почему?\n",
    "\n",
    "Координаты были получены скриптом в сторонний файл, через который они подружаются во фрейм в функции `all_data_transform`. Скрипт работал на основе геокодинга (получение широты и долготы) по текстовому адресу с помощью бесплатного сервиса Nominatim, который в свою очередь не отличается лучшим качеством. При геокодинге полного адреса (г.Пермь + название улицы + номер дома) было обнаружено, что примерно 1/3 геопозиций находятся вообще не в Перми. Когда же поиск осуществлялся без указания номера дома (г.Пермь + название улицы), то почти все позиции находились в пределах города, как и должно быть. Но в таком случае многие квартиры разных цен имеют одну и ту же координату, тк находятся на одной улице, но в разных домах"
   ]
  },
  {
   "cell_type": "markdown",
   "id": "c4c424b6",
   "metadata": {},
   "source": [
    "## Цена (target)\n",
    "Лог-нормирование"
   ]
  },
  {
   "cell_type": "code",
   "execution_count": 56,
   "id": "936bf1d4",
   "metadata": {},
   "outputs": [
    {
     "data": {
      "text/plain": [
       "<AxesSubplot:>"
      ]
     },
     "execution_count": 56,
     "metadata": {},
     "output_type": "execute_result"
    },
    {
     "data": {
      "image/png": "[encoded data removed]",
      "text/plain": [
       "<Figure size 432x288 with 1 Axes>"
      ]
     },
     "metadata": {
      "needs_background": "light"
     },
     "output_type": "display_data"
    }
   ],
   "source": [
    "dataset.price.hist(bins=30)"
   ]
  },
  {
   "cell_type": "code",
   "execution_count": 61,
   "id": "068ebea7",
   "metadata": {},
   "outputs": [
    {
     "data": {
      "text/plain": [
       "<AxesSubplot:>"
      ]
     },
     "execution_count": 61,
     "metadata": {},
     "output_type": "execute_result"
    },
    {
     "data": {
      "image/png": "[encoded data removed]",
      "text/plain": [
       "<Figure size 432x288 with 1 Axes>"
      ]
     },
     "metadata": {
      "needs_background": "light"
     },
     "output_type": "display_data"
    }
   ],
   "source": [
    "dataset['log_price'] = np.log(dataset.price)\n",
    "dataset['log_price'] = dataset['log_price'] - dataset['log_price'].mean()\n",
    "dataset.log_price.hist(bins=30)"
   ]
  },
  {
   "cell_type": "code",
   "execution_count": 62,
   "id": "b3e29ee7",
   "metadata": {},
   "outputs": [
    {
     "data": {
      "image/png": "[encoded data removed]",
      "text/plain": [
       "<Figure size 432x288 with 1 Axes>"
      ]
     },
     "execution_count": 62,
     "metadata": {},
     "output_type": "execute_result"
    },
    {
     "data": {
      "image/png": "[encoded data removed]",
      "text/plain": [
       "<Figure size 432x288 with 1 Axes>"
      ]
     },
     "metadata": {
      "needs_background": "light"
     },
     "output_type": "display_data"
    }
   ],
   "source": [
    "sm.qqplot(dataset.st_price, line='q')"
   ]
  },
  {
   "cell_type": "code",
   "execution_count": 63,
   "id": "9aa414f3",
   "metadata": {},
   "outputs": [
    {
     "data": {
      "image/png": "[encoded data removed]",
      "text/plain": [
       "<Figure size 432x288 with 1 Axes>"
      ]
     },
     "execution_count": 63,
     "metadata": {},
     "output_type": "execute_result"
    },
    {
     "data": {
      "image/png": "[encoded data removed]",
      "text/plain": [
       "<Figure size 432x288 with 1 Axes>"
      ]
     },
     "metadata": {
      "needs_background": "light"
     },
     "output_type": "display_data"
    }
   ],
   "source": [
    "sm.qqplot(dataset.log_price, line='q')"
   ]
  },
  {
   "cell_type": "markdown",
   "id": "c8451a59",
   "metadata": {},
   "source": [
    "Как видно, после логарифмирования целевого показателя его распределение становится более приближенным к нормальному. Но это лишь отчасти так. Благодаря графику квантилей видно, как после логарифмирования правый хвост распределение становится более нормального вида (точки верхней половины больше прижимаются к линии соответствия квантилей), но хвост слева от нуля на оборот вибивается. Даже если кажется это существенным, то на практике это почти никак не сказывалось, а в некоторых попытках предсказания моделей (, обучающихся на таргете без нормирования) были менее завышены."
   ]
  },
  {
   "cell_type": "markdown",
   "id": "e9d89fd0",
   "metadata": {},
   "source": [
    "## Тип дома"
   ]
  },
  {
   "cell_type": "code",
   "execution_count": 17,
   "id": "55cceab1",
   "metadata": {},
   "outputs": [
    {
     "data": {
      "text/plain": [
       "монолитный    2694\n",
       "кирпичный      991\n",
       "панельный      358\n",
       "блочный          1\n",
       "Name: house_type, dtype: int64"
      ]
     },
     "execution_count": 17,
     "metadata": {},
     "output_type": "execute_result"
    }
   ],
   "source": [
    "dataset.house_type.value_counts()"
   ]
  },
  {
   "cell_type": "code",
   "execution_count": 19,
   "id": "d07a51b4",
   "metadata": {},
   "outputs": [
    {
     "data": {
      "image/png": "[encoded data removed]",
      "text/plain": [
       "<Figure size 936x432 with 1 Axes>"
      ]
     },
     "metadata": {
      "needs_background": "light"
     },
     "output_type": "display_data"
    }
   ],
   "source": [
    "plt.figure(figsize=(13, 6))\n",
    "sns.boxplot(\n",
    "    x=dataset.house_type,\n",
    "    y=dataset.price\n",
    ")\n",
    "plt.show()"
   ]
  },
  {
   "cell_type": "markdown",
   "id": "772238c5",
   "metadata": {},
   "source": [
    "## Высота потолков\n",
    "\n",
    "Говорит, что есть такая хата, где высота потолков 42м\n",
    "\n",
    "Но страница по ссылке уже не существует"
   ]
  },
  {
   "cell_type": "code",
   "execution_count": 21,
   "id": "35407e21",
   "metadata": {},
   "outputs": [
    {
     "data": {
      "text/plain": [
       "count    2178.000000\n",
       "mean        2.748255\n",
       "std         0.849718\n",
       "min         2.000000\n",
       "25%         2.700000\n",
       "50%         2.700000\n",
       "75%         2.700000\n",
       "max        42.000000\n",
       "Name: ceiling_height, dtype: float64"
      ]
     },
     "execution_count": 21,
     "metadata": {},
     "output_type": "execute_result"
    }
   ],
   "source": [
    "df.ceiling_height.describe()"
   ]
  },
  {
   "cell_type": "code",
   "execution_count": 54,
   "id": "fe7c2adf",
   "metadata": {},
   "outputs": [
    {
     "data": {
      "text/html": [
       "<div>\n",
       "<style scoped>\n",
       "    .dataframe tbody tr th:only-of-type {\n",
       "        vertical-align: middle;\n",
       "    }\n",
       "\n",
       "    .dataframe tbody tr th {\n",
       "        vertical-align: top;\n",
       "    }\n",
       "\n",
       "    .dataframe thead th {\n",
       "        text-align: right;\n",
       "    }\n",
       "</style>\n",
       "<table border=\"1\" class=\"dataframe\">\n",
       "  <thead>\n",
       "    <tr style=\"text-align: right;\">\n",
       "      <th></th>\n",
       "      <th>title</th>\n",
       "      <th>price</th>\n",
       "      <th>address</th>\n",
       "      <th>area</th>\n",
       "      <th>rooms</th>\n",
       "      <th>floors</th>\n",
       "      <th>house_type</th>\n",
       "      <th>construction_date</th>\n",
       "      <th>ceiling_height</th>\n",
       "      <th>link</th>\n",
       "      <th>lat</th>\n",
       "      <th>lng</th>\n",
       "      <th>log_price</th>\n",
       "    </tr>\n",
       "  </thead>\n",
       "  <tbody>\n",
       "    <tr>\n",
       "      <th>3338</th>\n",
       "      <td>3-к. квартира, 58,9 м кв., 2/5 эт.</td>\n",
       "      <td>3800000.0</td>\n",
       "      <td>Пермский край, Пермь, Вижайская ул., 23</td>\n",
       "      <td>58.9</td>\n",
       "      <td>3</td>\n",
       "      <td>2 из 5</td>\n",
       "      <td>кирпичный</td>\n",
       "      <td>1972</td>\n",
       "      <td>42.0</td>\n",
       "      <td>https://www.avito.ru/perm/kvartiry/3-k._kvarti...</td>\n",
       "      <td>58.01389</td>\n",
       "      <td>56.24889</td>\n",
       "      <td>15.150512</td>\n",
       "    </tr>\n",
       "  </tbody>\n",
       "</table>\n",
       "</div>"
      ],
      "text/plain": [
       "                                   title      price  \\\n",
       "3338  3-к. квартира, 58,9 м кв., 2/5 эт.  3800000.0   \n",
       "\n",
       "                                      address  area rooms  floors house_type  \\\n",
       "3338  Пермский край, Пермь, Вижайская ул., 23  58.9     3  2 из 5  кирпичный   \n",
       "\n",
       "     construction_date  ceiling_height  \\\n",
       "3338              1972            42.0   \n",
       "\n",
       "                                                   link       lat       lng  \\\n",
       "3338  https://www.avito.ru/perm/kvartiry/3-k._kvarti...  58.01389  56.24889   \n",
       "\n",
       "      log_price  \n",
       "3338  15.150512  "
      ]
     },
     "execution_count": 54,
     "metadata": {},
     "output_type": "execute_result"
    }
   ],
   "source": [
    "df.loc[df.ceiling_height == 42]"
   ]
  },
  {
   "cell_type": "code",
   "execution_count": 53,
   "id": "a6821fbb",
   "metadata": {},
   "outputs": [
    {
     "data": {
      "text/plain": [
       "3338    https://www.avito.ru/perm/kvartiry/3-k._kvarti...\n",
       "Name: link, dtype: object"
      ]
     },
     "execution_count": 53,
     "metadata": {},
     "output_type": "execute_result"
    }
   ],
   "source": [
    "df.loc[df.ceiling_height == 42].link"
   ]
  },
  {
   "cell_type": "code",
   "execution_count": 14,
   "id": "c4273494",
   "metadata": {},
   "outputs": [
    {
     "data": {
      "text/plain": [
       "1934"
      ]
     },
     "execution_count": 14,
     "metadata": {},
     "output_type": "execute_result"
    }
   ],
   "source": [
    "sum(df.ceiling_height.isnull()) # sum of nans in ceiling_height"
   ]
  },
  {
   "cell_type": "markdown",
   "id": "7e661f1a",
   "metadata": {},
   "source": [
    "очевидно, что с 42мя метрами это выброс. Да и в целом нет смысла заморачиваться с высотой, тк почти у половины семплов нет значений и признак не особо вариативный"
   ]
  },
  {
   "cell_type": "markdown",
   "id": "f43288f6",
   "metadata": {},
   "source": [
    "## 2 фичи из признака `floors`\n",
    "1 - дробь, которая показывает насколько высоко в доме находится квартира (1 - последний этаж, близко к 0 - на первых этажах)\n",
    "\n",
    "2 - сколько всего этажей в доме"
   ]
  },
  {
   "cell_type": "code",
   "execution_count": 62,
   "id": "10b0ddf9",
   "metadata": {},
   "outputs": [],
   "source": [
    "fract_floors = []\n",
    "building_flrs = []\n",
    "for i in df.floors:\n",
    "    try:\n",
    "#         print(i.replace(' из ', ','), ' = ', i.replace(' из ', ',').split(',') )\n",
    "        l = i.replace(' из ', ',').split(',')\n",
    "        fract_floors.append(int(l[0])/int(l[1]))\n",
    "        building_flrs.append(int(l[1]))\n",
    "    except AttributeError:\n",
    "        # если nan, то пусть останется nan'ом\n",
    "        fract_floors.append(i)"
   ]
  },
  {
   "cell_type": "code",
   "execution_count": 63,
   "id": "cf032c38",
   "metadata": {},
   "outputs": [
    {
     "data": {
      "text/plain": [
       "68"
      ]
     },
     "execution_count": 63,
     "metadata": {},
     "output_type": "execute_result"
    }
   ],
   "source": [
    "fr_florrs = pd.Series(fract_floors)\n",
    "sum(fr_florrs.isna())"
   ]
  },
  {
   "cell_type": "code",
   "execution_count": 80,
   "id": "09a54881",
   "metadata": {},
   "outputs": [
    {
     "data": {
      "text/html": [
       "<div>\n",
       "<style scoped>\n",
       "    .dataframe tbody tr th:only-of-type {\n",
       "        vertical-align: middle;\n",
       "    }\n",
       "\n",
       "    .dataframe tbody tr th {\n",
       "        vertical-align: top;\n",
       "    }\n",
       "\n",
       "    .dataframe thead th {\n",
       "        text-align: right;\n",
       "    }\n",
       "</style>\n",
       "<table border=\"1\" class=\"dataframe\">\n",
       "  <thead>\n",
       "    <tr style=\"text-align: right;\">\n",
       "      <th></th>\n",
       "      <th>area</th>\n",
       "      <th>rooms</th>\n",
       "      <th>lat</th>\n",
       "      <th>lng</th>\n",
       "      <th>fract_flrs</th>\n",
       "      <th>building_flrs</th>\n",
       "      <th>type_блочный</th>\n",
       "      <th>type_кирпичный</th>\n",
       "      <th>type_монолитный</th>\n",
       "      <th>type_панельный</th>\n",
       "    </tr>\n",
       "  </thead>\n",
       "  <tbody>\n",
       "    <tr>\n",
       "      <th>50</th>\n",
       "      <td>60.0</td>\n",
       "      <td>2</td>\n",
       "      <td>NaN</td>\n",
       "      <td>NaN</td>\n",
       "      <td>0.647059</td>\n",
       "      <td>17</td>\n",
       "      <td>0</td>\n",
       "      <td>0</td>\n",
       "      <td>0</td>\n",
       "      <td>1</td>\n",
       "    </tr>\n",
       "    <tr>\n",
       "      <th>56</th>\n",
       "      <td>55.9</td>\n",
       "      <td>2</td>\n",
       "      <td>NaN</td>\n",
       "      <td>NaN</td>\n",
       "      <td>0.142857</td>\n",
       "      <td>21</td>\n",
       "      <td>0</td>\n",
       "      <td>0</td>\n",
       "      <td>1</td>\n",
       "      <td>0</td>\n",
       "    </tr>\n",
       "    <tr>\n",
       "      <th>57</th>\n",
       "      <td>76.7</td>\n",
       "      <td>3</td>\n",
       "      <td>NaN</td>\n",
       "      <td>NaN</td>\n",
       "      <td>0.080000</td>\n",
       "      <td>25</td>\n",
       "      <td>0</td>\n",
       "      <td>0</td>\n",
       "      <td>1</td>\n",
       "      <td>0</td>\n",
       "    </tr>\n",
       "    <tr>\n",
       "      <th>109</th>\n",
       "      <td>60.0</td>\n",
       "      <td>2</td>\n",
       "      <td>NaN</td>\n",
       "      <td>NaN</td>\n",
       "      <td>0.647059</td>\n",
       "      <td>17</td>\n",
       "      <td>0</td>\n",
       "      <td>0</td>\n",
       "      <td>0</td>\n",
       "      <td>1</td>\n",
       "    </tr>\n",
       "    <tr>\n",
       "      <th>114</th>\n",
       "      <td>55.9</td>\n",
       "      <td>2</td>\n",
       "      <td>NaN</td>\n",
       "      <td>NaN</td>\n",
       "      <td>0.142857</td>\n",
       "      <td>21</td>\n",
       "      <td>0</td>\n",
       "      <td>0</td>\n",
       "      <td>1</td>\n",
       "      <td>0</td>\n",
       "    </tr>\n",
       "    <tr>\n",
       "      <th>...</th>\n",
       "      <td>...</td>\n",
       "      <td>...</td>\n",
       "      <td>...</td>\n",
       "      <td>...</td>\n",
       "      <td>...</td>\n",
       "      <td>...</td>\n",
       "      <td>...</td>\n",
       "      <td>...</td>\n",
       "      <td>...</td>\n",
       "      <td>...</td>\n",
       "    </tr>\n",
       "    <tr>\n",
       "      <th>3997</th>\n",
       "      <td>55.9</td>\n",
       "      <td>2</td>\n",
       "      <td>NaN</td>\n",
       "      <td>NaN</td>\n",
       "      <td>0.142857</td>\n",
       "      <td>21</td>\n",
       "      <td>0</td>\n",
       "      <td>0</td>\n",
       "      <td>1</td>\n",
       "      <td>0</td>\n",
       "    </tr>\n",
       "    <tr>\n",
       "      <th>4005</th>\n",
       "      <td>86.1</td>\n",
       "      <td>4</td>\n",
       "      <td>NaN</td>\n",
       "      <td>NaN</td>\n",
       "      <td>0.142857</td>\n",
       "      <td>21</td>\n",
       "      <td>0</td>\n",
       "      <td>0</td>\n",
       "      <td>1</td>\n",
       "      <td>0</td>\n",
       "    </tr>\n",
       "    <tr>\n",
       "      <th>4011</th>\n",
       "      <td>70.6</td>\n",
       "      <td>3</td>\n",
       "      <td>NaN</td>\n",
       "      <td>NaN</td>\n",
       "      <td>0.714286</td>\n",
       "      <td>21</td>\n",
       "      <td>0</td>\n",
       "      <td>0</td>\n",
       "      <td>1</td>\n",
       "      <td>0</td>\n",
       "    </tr>\n",
       "    <tr>\n",
       "      <th>4056</th>\n",
       "      <td>55.9</td>\n",
       "      <td>2</td>\n",
       "      <td>NaN</td>\n",
       "      <td>NaN</td>\n",
       "      <td>0.142857</td>\n",
       "      <td>21</td>\n",
       "      <td>0</td>\n",
       "      <td>0</td>\n",
       "      <td>1</td>\n",
       "      <td>0</td>\n",
       "    </tr>\n",
       "    <tr>\n",
       "      <th>4077</th>\n",
       "      <td>70.6</td>\n",
       "      <td>3</td>\n",
       "      <td>NaN</td>\n",
       "      <td>NaN</td>\n",
       "      <td>0.714286</td>\n",
       "      <td>21</td>\n",
       "      <td>0</td>\n",
       "      <td>0</td>\n",
       "      <td>1</td>\n",
       "      <td>0</td>\n",
       "    </tr>\n",
       "  </tbody>\n",
       "</table>\n",
       "<p>212 rows × 10 columns</p>\n",
       "</div>"
      ],
      "text/plain": [
       "      area  rooms  lat  lng  fract_flrs  building_flrs  type_блочный  \\\n",
       "50    60.0      2  NaN  NaN    0.647059             17             0   \n",
       "56    55.9      2  NaN  NaN    0.142857             21             0   \n",
       "57    76.7      3  NaN  NaN    0.080000             25             0   \n",
       "109   60.0      2  NaN  NaN    0.647059             17             0   \n",
       "114   55.9      2  NaN  NaN    0.142857             21             0   \n",
       "...    ...    ...  ...  ...         ...            ...           ...   \n",
       "3997  55.9      2  NaN  NaN    0.142857             21             0   \n",
       "4005  86.1      4  NaN  NaN    0.142857             21             0   \n",
       "4011  70.6      3  NaN  NaN    0.714286             21             0   \n",
       "4056  55.9      2  NaN  NaN    0.142857             21             0   \n",
       "4077  70.6      3  NaN  NaN    0.714286             21             0   \n",
       "\n",
       "      type_кирпичный  type_монолитный  type_панельный  \n",
       "50                 0                0               1  \n",
       "56                 0                1               0  \n",
       "57                 0                1               0  \n",
       "109                0                0               1  \n",
       "114                0                1               0  \n",
       "...              ...              ...             ...  \n",
       "3997               0                1               0  \n",
       "4005               0                1               0  \n",
       "4011               0                1               0  \n",
       "4056               0                1               0  \n",
       "4077               0                1               0  \n",
       "\n",
       "[212 rows x 10 columns]"
      ]
     },
     "execution_count": 80,
     "metadata": {},
     "output_type": "execute_result"
    }
   ],
   "source": [
    "df[df.isna().any(axis=1)]"
   ]
  },
  {
   "cell_type": "markdown",
   "id": "50650279",
   "metadata": {},
   "source": [
    "212 строк с хотя бы одним НаНом в строке"
   ]
  },
  {
   "cell_type": "code",
   "execution_count": 82,
   "id": "33f9b8c1",
   "metadata": {
    "scrolled": true
   },
   "outputs": [
    {
     "name": "stdout",
     "output_type": "stream",
     "text": [
      "area --- False\n",
      "rooms --- False\n",
      "lat --- True\n",
      "lng --- True\n",
      "fract_flrs --- False\n",
      "building_flrs --- False\n",
      "type_блочный --- False\n",
      "type_кирпичный --- False\n",
      "type_монолитный --- False\n",
      "type_панельный --- False\n"
     ]
    }
   ],
   "source": [
    "for col in df.columns:\n",
    "    print(col, '---', df[col].isna().any())"
   ]
  },
  {
   "cell_type": "markdown",
   "id": "e1e451fd",
   "metadata": {},
   "source": [
    "НаНы только в координатах\n",
    "\n",
    "Поэтому добавим в главную функцию `all_data_transform` устранение этих строк через `.dropna()`"
   ]
  },
  {
   "cell_type": "markdown",
   "id": "e6ff995c",
   "metadata": {},
   "source": [
    "---"
   ]
  },
  {
   "cell_type": "markdown",
   "id": "dfd940ff",
   "metadata": {},
   "source": [
    "# baseline"
   ]
  },
  {
   "cell_type": "code",
   "execution_count": 7,
   "id": "317edf1b",
   "metadata": {},
   "outputs": [],
   "source": [
    "train_data, test_data, train_target, test_target = train_test_split(\n",
    "    df, target, test_size=0.2, random_state=2\n",
    ")"
   ]
  },
  {
   "cell_type": "markdown",
   "id": "d086d35a",
   "metadata": {},
   "source": [
    "## linear regression"
   ]
  },
  {
   "cell_type": "code",
   "execution_count": 8,
   "id": "268561e6",
   "metadata": {},
   "outputs": [
    {
     "data": {
      "text/plain": [
       "180      6097000.0\n",
       "2709     3221575.0\n",
       "1337    10209000.0\n",
       "3356     3400000.0\n",
       "658      4989600.0\n",
       "           ...    \n",
       "3662     4000000.0\n",
       "670     10379000.0\n",
       "1378     2552760.0\n",
       "3639     4989600.0\n",
       "4035     2880000.0\n",
       "Name: price, Length: 767, dtype: float64"
      ]
     },
     "execution_count": 8,
     "metadata": {},
     "output_type": "execute_result"
    }
   ],
   "source": [
    "test_target"
   ]
  },
  {
   "cell_type": "code",
   "execution_count": 30,
   "id": "c3063ce1",
   "metadata": {},
   "outputs": [
    {
     "data": {
      "text/plain": [
       "0.7540120034607917"
      ]
     },
     "execution_count": 30,
     "metadata": {},
     "output_type": "execute_result"
    }
   ],
   "source": [
    "lin = LinearRegression().fit(train_data, train_target)\n",
    "\n",
    "np.mean(cvs(lin, test_data, test_target))"
   ]
  },
  {
   "cell_type": "code",
   "execution_count": 31,
   "id": "78da03e5",
   "metadata": {},
   "outputs": [
    {
     "data": {
      "text/plain": [
       "(0.15005951541281382, 1.1619033918305586)"
      ]
     },
     "execution_count": 31,
     "metadata": {},
     "output_type": "execute_result"
    }
   ],
   "source": [
    "mae(y_true=test_target, y_pred=lin.predict(test_data)), np.exp(mae(y_true=test_target, y_pred=lin.predict(test_data)))"
   ]
  },
  {
   "cell_type": "code",
   "execution_count": 32,
   "id": "610994b8",
   "metadata": {},
   "outputs": [
    {
     "data": {
      "text/plain": [
       "0.769064201491879"
      ]
     },
     "execution_count": 32,
     "metadata": {},
     "output_type": "execute_result"
    }
   ],
   "source": [
    "R2(y_true=test_target, y_pred=lin.predict(test_data))"
   ]
  },
  {
   "cell_type": "markdown",
   "id": "fc60dd17",
   "metadata": {},
   "source": [
    "## gbm"
   ]
  },
  {
   "cell_type": "code",
   "execution_count": 12,
   "id": "a4be3323",
   "metadata": {},
   "outputs": [
    {
     "name": "stdout",
     "output_type": "stream",
     "text": [
      "0.9911233042035505\n",
      "[0.99167217 0.97863965 0.99311721 0.99744286 0.99298517 0.9844626 ]\n"
     ]
    }
   ],
   "source": [
    "gbm = GradientBoostingRegressor(n_estimators=200, random_state=2).fit(train_data, train_target)\n",
    "\n",
    "print(np.mean(cvs(gbm, test_data, test_target)))\n",
    "print(cvs(gbm, test_data, test_target, cv=6))"
   ]
  },
  {
   "cell_type": "code",
   "execution_count": 13,
   "id": "7e20e219",
   "metadata": {},
   "outputs": [
    {
     "data": {
      "text/plain": [
       "0.006946652058439414"
      ]
     },
     "execution_count": 13,
     "metadata": {},
     "output_type": "execute_result"
    }
   ],
   "source": [
    "mae(y_true=test_target, y_pred=gbm.predict(test_data))"
   ]
  },
  {
   "cell_type": "code",
   "execution_count": 40,
   "id": "a81adb49",
   "metadata": {},
   "outputs": [
    {
     "data": {
      "text/plain": [
       "1.0069708360125893"
      ]
     },
     "execution_count": 40,
     "metadata": {},
     "output_type": "execute_result"
    }
   ],
   "source": [
    "np.exp(0.006946652058439414)"
   ]
  },
  {
   "cell_type": "code",
   "execution_count": 14,
   "id": "0651fee9",
   "metadata": {},
   "outputs": [
    {
     "data": {
      "text/plain": [
       "0.9945725836193412"
      ]
     },
     "execution_count": 14,
     "metadata": {},
     "output_type": "execute_result"
    }
   ],
   "source": [
    "R2(y_true=test_target, y_pred=gbm.predict(test_data))"
   ]
  },
  {
   "cell_type": "markdown",
   "id": "219ca4e5",
   "metadata": {},
   "source": [
    "Чрезвычайно хороший результат.. Однако он на валидационной выборке. И это все таки квадрат остатков, а с практической точки зрения больше интересует абсолютное отклонение\n",
    "\n",
    "Но в данном случае вычислять mae имеет смысл только в качестве сравнения с другими моделями, которые тоже обучаются по лог-нормированному таргету, поскольку ошибка не интерпретируется классическим способом в рубли"
   ]
  },
  {
   "cell_type": "code",
   "execution_count": 18,
   "id": "dc8d1447",
   "metadata": {},
   "outputs": [
    {
     "name": "stdout",
     "output_type": "stream",
     "text": [
      "           Feature  Importance\n",
      "0             area    0.786600\n",
      "1            rooms    0.043546\n",
      "2              lat    0.095191\n",
      "3              lng    0.037087\n",
      "4       fract_flrs    0.005311\n",
      "5    building_flrs    0.029213\n",
      "6     type_блочный    0.000000\n",
      "7   type_кирпичный    0.000199\n",
      "8  type_монолитный    0.001690\n",
      "9   type_панельный    0.001164\n"
     ]
    },
    {
     "data": {
      "image/png": "[encoded data removed]",
      "text/plain": [
       "<Figure size 1008x504 with 1 Axes>"
      ]
     },
     "metadata": {
      "needs_background": "light"
     },
     "output_type": "display_data"
    }
   ],
   "source": [
    "feat_imp = pd.DataFrame(data={'Feature': df.columns,\n",
    "                              'Importance': gbm.feature_importances_})\n",
    "print(feat_imp)\n",
    "\n",
    "plt.figure(figsize=(14,7))\n",
    "plt.title('Вклад каждого признака в построение модели')\n",
    "sns.barplot(y=df.columns, x=gbm.feature_importances_, palette=sns.color_palette('bright', as_cmap=True))\n",
    "plt.show()"
   ]
  },
  {
   "cell_type": "markdown",
   "id": "d693721e",
   "metadata": {},
   "source": [
    "После просмотра этого графика стало вдруг интересно - а есть ли на самом деле связь между придуманной фичей `fract_flrs` и таргетом?\n",
    "\n",
    "Изначально было предположение, что квартиры, расположенные \"повыше\", стоят \"подороже\". Иными словами предпологалось, что есть прямая зависимость"
   ]
  },
  {
   "cell_type": "code",
   "execution_count": 23,
   "id": "6c259a60",
   "metadata": {},
   "outputs": [
    {
     "data": {
      "image/png": "[encoded data removed]",
      "text/plain": [
       "<Figure size 1008x504 with 1 Axes>"
      ]
     },
     "metadata": {
      "needs_background": "light"
     },
     "output_type": "display_data"
    }
   ],
   "source": [
    "plt.figure(figsize=(14,7))\n",
    "sns.scatterplot(\n",
    "    x=df.fract_flrs,\n",
    "    y=np.exp(target)\n",
    ")\n",
    "plt.show()"
   ]
  },
  {
   "cell_type": "code",
   "execution_count": 25,
   "id": "b41eb25b",
   "metadata": {},
   "outputs": [
    {
     "data": {
      "text/plain": [
       "array([[1.        , 0.14668097],\n",
       "       [0.14668097, 1.        ]])"
      ]
     },
     "execution_count": 25,
     "metadata": {},
     "output_type": "execute_result"
    }
   ],
   "source": [
    "np.corrcoef(df.fract_flrs, np.exp(target))"
   ]
  },
  {
   "cell_type": "markdown",
   "id": "34fb68ba",
   "metadata": {},
   "source": [
    "На самом деле существенной корреляции нет"
   ]
  },
  {
   "cell_type": "markdown",
   "id": "674d76b9",
   "metadata": {},
   "source": [
    "## random forest"
   ]
  },
  {
   "cell_type": "code",
   "execution_count": 23,
   "id": "e7a06830",
   "metadata": {},
   "outputs": [
    {
     "name": "stdout",
     "output_type": "stream",
     "text": [
      "mean cvs:  0.9716858388893111\n",
      "cvs:  [0.95353303 0.92627176 0.97675504 0.99028389 0.98363906 0.98296534]\n",
      "mae:  128014.20970001307\n"
     ]
    }
   ],
   "source": [
    "from sklearn.ensemble import RandomForestRegressor\n",
    "from sklearn.model_selection import GridSearchCV\n",
    "\n",
    "rf = RandomForestRegressor(n_estimators=350, max_depth=7,\n",
    "                           min_samples_split=2, random_state=2).fit(train_data, train_target)\n",
    "\n",
    "print('mean cvs: ', np.mean(cvs(rf, test_data, test_target)))\n",
    "print('cvs: ', cvs(rf, test_data, test_target, cv=6))\n",
    "print('mae: ', mae(y_true=test_target, y_pred=rf.predict(test_data)))"
   ]
  },
  {
   "cell_type": "code",
   "execution_count": 21,
   "id": "46d4c788",
   "metadata": {},
   "outputs": [
    {
     "name": "stdout",
     "output_type": "stream",
     "text": [
      "Fitting 5 folds for each of 168 candidates, totalling 840 fits\n",
      "Wall time: 53min 11s\n"
     ]
    },
    {
     "data": {
      "text/plain": [
       "GridSearchCV(cv=5,\n",
       "             estimator=RandomForestRegressor(criterion='mae', random_state=2),\n",
       "             n_jobs=-1,\n",
       "             param_grid={'max_depth': range(1, 8),\n",
       "                         'min_samples_split': range(2, 10, 2),\n",
       "                         'n_estimators': range(100, 400, 50)},\n",
       "             verbose=2)"
      ]
     },
     "execution_count": 21,
     "metadata": {},
     "output_type": "execute_result"
    }
   ],
   "source": [
    "%%time\n",
    "params = {\n",
    "    'n_estimators': range(100, 400, 50),\n",
    "    'max_depth': range(1, 8),\n",
    "    'min_samples_split': range(2, 10, 2)\n",
    "}\n",
    "\n",
    "grid = GridSearchCV(rf, params, cv=5, verbose=2, n_jobs=-1)\n",
    "grid.fit(train_data, train_target)"
   ]
  },
  {
   "cell_type": "code",
   "execution_count": 22,
   "id": "c4485b4e",
   "metadata": {},
   "outputs": [
    {
     "data": {
      "text/plain": [
       "({'max_depth': 7, 'min_samples_split': 2, 'n_estimators': 350},\n",
       " 0.9854509614839818)"
      ]
     },
     "execution_count": 22,
     "metadata": {},
     "output_type": "execute_result"
    }
   ],
   "source": [
    "grid.best_params_"
   ]
  },
  {
   "cell_type": "markdown",
   "id": "30e02c08",
   "metadata": {},
   "source": [
    "# for people\n",
    "Проверяем предикт для 3х квартир, которых нет в датасете, но их цены известны (автору)"
   ]
  },
  {
   "cell_type": "markdown",
   "id": "17c8d1cd",
   "metadata": {},
   "source": [
    "### linear regression"
   ]
  },
  {
   "cell_type": "code",
   "execution_count": 33,
   "id": "e65c1ec1",
   "metadata": {},
   "outputs": [
    {
     "name": "stdout",
     "output_type": "stream",
     "text": [
      "3687853 --- двушка 42м на Магистральной\n",
      "3254237 --- однушка 32м на Ямпольской\n",
      "7249651 --- двушка 82м на Екатерининская - 7700000\n"
     ]
    }
   ],
   "source": [
    "flat_data = np.array([42,2,57.9923266,55.9269021,0.4,5,0,1,0,0]) # двушка 42м на Магистральной\n",
    "flat_data2 = np.array([32,1,58.0129377,55.9670637,0.8,5,1,0,0,0]) # однушка 32м на Ямпольской\n",
    "flat_data3 = np.array([88.2,2,58.0103762,56.2444499,0.67,6,1,0,0,0]) # новостройка с Циана - цена 7.7 млн руб\n",
    "\n",
    "print(f'{int(np.exp(lin.predict(flat_data.reshape(1,-1))))} --- двушка 42м на Магистральной')\n",
    "print(f'{int(np.exp(lin.predict(flat_data2.reshape(1,-1))))} --- однушка 32м на Ямпольской')\n",
    "print(f'{int(np.exp(lin.predict(flat_data3.reshape(1,-1))))} --- двушка 82м на Екатерининская - 7700000')"
   ]
  },
  {
   "cell_type": "markdown",
   "id": "8920dacd",
   "metadata": {},
   "source": [
    "### gbm"
   ]
  },
  {
   "cell_type": "code",
   "execution_count": 83,
   "id": "2e6c6192",
   "metadata": {},
   "outputs": [
    {
     "name": "stdout",
     "output_type": "stream",
     "text": [
      "3624670 --- двушка 42м на Магистральной\n",
      "2569551 --- однушка 32м на Ямпольской\n",
      "9042709 --- двушка 82м на Екатерининская - 7700000\n"
     ]
    }
   ],
   "source": [
    "flat_data = np.array([42,2,57.9923266,55.9269021,0.4,5,0,1,0,0]) # двушка 42м на Магистральной\n",
    "flat_data2 = np.array([32,1,58.0129377,55.9670637,0.8,5,1,0,0,0]) # однушка 32м на Ямпольской\n",
    "flat_data3 = np.array([88.2,2,58.0103762,56.2444499,0.67,6,1,0,0,0]) # новостройка с Циана - цена 7.7 млн руб\n",
    "\n",
    "print(f'{int(np.exp(gbm.predict(flat_data.reshape(1,-1))))} --- двушка 42м на Магистральной')\n",
    "print(f'{int(np.exp(gbm.predict(flat_data2.reshape(1,-1))))} --- однушка 32м на Ямпольской')\n",
    "print(f'{int(np.exp(gbm.predict(flat_data3.reshape(1,-1))))} --- двушка 82м на Екатерининская - 7700000')"
   ]
  },
  {
   "cell_type": "markdown",
   "id": "fa2f931b",
   "metadata": {},
   "source": [
    "Для коренного жителя Перми вывод очевиден - цены крайне завышены!(\n",
    "\n",
    "Но почему?"
   ]
  },
  {
   "cell_type": "code",
   "execution_count": 28,
   "id": "7f259f74",
   "metadata": {},
   "outputs": [
    {
     "name": "stdout",
     "output_type": "stream",
     "text": [
      "Количество квартир\n",
      "вторичка:  107\n",
      "новостройки:  4005\n"
     ]
    }
   ],
   "source": [
    "vtorichka = 0\n",
    "new_building = 0\n",
    "\n",
    "for date in dataset.construction_date:\n",
    "    try:\n",
    "        int(date)\n",
    "        vtorichka += 1\n",
    "    except ValueError:\n",
    "        new_building += 1\n",
    "\n",
    "print('Количество квартир')\n",
    "print('вторичка: ', vtorichka)\n",
    "print('новостройки: ', new_building)"
   ]
  },
  {
   "cell_type": "markdown",
   "id": "9fcb3e3b",
   "metadata": {},
   "source": [
    "Мы научились предсказывать цену новостройки, а не вторички(99((\n",
    "\n",
    "Очень мало семплов данных вторичного жилья, чтобы модель могла научиться снижать цену относительно новостроек. Да и к тому же фича с датой постройки не была использована вовсе, но если бы она все таки была, то фундаментально врядли что-нибудь поменялось из-за дисбаланса \n",
    "\n",
    "Но даже не смотря на обучение под цены новостроек, модель выдала 9млн для новостройки за 7.7млн. То есть, очевидно, что модель хорошо описывает специфику конкретного датасета, так как (условно) пример в сдругого датасета он предсказывает очень плохо "
   ]
  },
  {
   "cell_type": "markdown",
   "id": "f2f0d1c7",
   "metadata": {},
   "source": [
    "# Крутим-вертим\n",
    "\n",
    "- Удаляем `fract_flrs`\n",
    "- Не нормируем таргет\n",
    "- нормируем данные на вход\n",
    "- Усиливаем регуляризацию модели\n",
    "    - ставим критерий разбиения дерева и функцию потерь как mae\n",
    "    - задаем макс глубину отдельного дерева"
   ]
  },
  {
   "cell_type": "code",
   "execution_count": 98,
   "id": "bec02131",
   "metadata": {},
   "outputs": [],
   "source": [
    "df, target = all_data_tranforms(dataset, ff=False, tar_norm=False, stand_sc=False)"
   ]
  },
  {
   "cell_type": "code",
   "execution_count": 99,
   "id": "54fb62dc",
   "metadata": {},
   "outputs": [
    {
     "data": {
      "text/html": [
       "<div>\n",
       "<style scoped>\n",
       "    .dataframe tbody tr th:only-of-type {\n",
       "        vertical-align: middle;\n",
       "    }\n",
       "\n",
       "    .dataframe tbody tr th {\n",
       "        vertical-align: top;\n",
       "    }\n",
       "\n",
       "    .dataframe thead th {\n",
       "        text-align: right;\n",
       "    }\n",
       "</style>\n",
       "<table border=\"1\" class=\"dataframe\">\n",
       "  <thead>\n",
       "    <tr style=\"text-align: right;\">\n",
       "      <th></th>\n",
       "      <th>area</th>\n",
       "      <th>rooms</th>\n",
       "      <th>lat</th>\n",
       "      <th>lng</th>\n",
       "      <th>building_flrs</th>\n",
       "      <th>type_блочный</th>\n",
       "      <th>type_кирпичный</th>\n",
       "      <th>type_монолитный</th>\n",
       "      <th>type_панельный</th>\n",
       "    </tr>\n",
       "  </thead>\n",
       "  <tbody>\n",
       "    <tr>\n",
       "      <th>0</th>\n",
       "      <td>42.3</td>\n",
       "      <td>1</td>\n",
       "      <td>57.969058</td>\n",
       "      <td>56.270723</td>\n",
       "      <td>25</td>\n",
       "      <td>0</td>\n",
       "      <td>0</td>\n",
       "      <td>1</td>\n",
       "      <td>0</td>\n",
       "    </tr>\n",
       "    <tr>\n",
       "      <th>1</th>\n",
       "      <td>44.0</td>\n",
       "      <td>3</td>\n",
       "      <td>57.967930</td>\n",
       "      <td>56.271902</td>\n",
       "      <td>20</td>\n",
       "      <td>0</td>\n",
       "      <td>0</td>\n",
       "      <td>1</td>\n",
       "      <td>0</td>\n",
       "    </tr>\n",
       "    <tr>\n",
       "      <th>2</th>\n",
       "      <td>23.8</td>\n",
       "      <td>0</td>\n",
       "      <td>57.971481</td>\n",
       "      <td>56.231502</td>\n",
       "      <td>25</td>\n",
       "      <td>0</td>\n",
       "      <td>0</td>\n",
       "      <td>1</td>\n",
       "      <td>0</td>\n",
       "    </tr>\n",
       "    <tr>\n",
       "      <th>3</th>\n",
       "      <td>46.9</td>\n",
       "      <td>1</td>\n",
       "      <td>58.012552</td>\n",
       "      <td>56.252127</td>\n",
       "      <td>6</td>\n",
       "      <td>0</td>\n",
       "      <td>0</td>\n",
       "      <td>1</td>\n",
       "      <td>0</td>\n",
       "    </tr>\n",
       "    <tr>\n",
       "      <th>4</th>\n",
       "      <td>79.3</td>\n",
       "      <td>2</td>\n",
       "      <td>58.027277</td>\n",
       "      <td>56.193065</td>\n",
       "      <td>4</td>\n",
       "      <td>0</td>\n",
       "      <td>0</td>\n",
       "      <td>1</td>\n",
       "      <td>0</td>\n",
       "    </tr>\n",
       "  </tbody>\n",
       "</table>\n",
       "</div>"
      ],
      "text/plain": [
       "   area  rooms        lat        lng  building_flrs  type_блочный  \\\n",
       "0  42.3      1  57.969058  56.270723             25             0   \n",
       "1  44.0      3  57.967930  56.271902             20             0   \n",
       "2  23.8      0  57.971481  56.231502             25             0   \n",
       "3  46.9      1  58.012552  56.252127              6             0   \n",
       "4  79.3      2  58.027277  56.193065              4             0   \n",
       "\n",
       "   type_кирпичный  type_монолитный  type_панельный  \n",
       "0               0                1               0  \n",
       "1               0                1               0  \n",
       "2               0                1               0  \n",
       "3               0                1               0  \n",
       "4               0                1               0  "
      ]
     },
     "execution_count": 99,
     "metadata": {},
     "output_type": "execute_result"
    }
   ],
   "source": [
    "df.head()"
   ]
  },
  {
   "cell_type": "code",
   "execution_count": 100,
   "id": "422876cf",
   "metadata": {},
   "outputs": [],
   "source": [
    "train_data, test_data, train_target, test_target = train_test_split(\n",
    "    df, target, test_size=0.2, random_state=2\n",
    ")"
   ]
  },
  {
   "cell_type": "markdown",
   "id": "385da1ff",
   "metadata": {},
   "source": [
    "   "
   ]
  },
  {
   "cell_type": "markdown",
   "id": "e47efcef",
   "metadata": {},
   "source": [
    "## gmb 2"
   ]
  },
  {
   "cell_type": "code",
   "execution_count": 102,
   "id": "dc2ddd73",
   "metadata": {},
   "outputs": [
    {
     "name": "stdout",
     "output_type": "stream",
     "text": [
      "Wall time: 23.4 s\n"
     ]
    }
   ],
   "source": [
    "%%time\n",
    "gbm_2 = GradientBoostingRegressor(n_estimators=200,\n",
    "                                  max_depth=2,\n",
    "                                  max_features=6,\n",
    "                                  min_samples_leaf=20,\n",
    "                                  criterion='mae',\n",
    "                                  loss='lad'\n",
    "                                 ).fit(train_data, train_target)"
   ]
  },
  {
   "cell_type": "code",
   "execution_count": 103,
   "id": "f1661850",
   "metadata": {},
   "outputs": [
    {
     "name": "stdout",
     "output_type": "stream",
     "text": [
      "0.95 0.0136\n",
      "[0.941249   0.9349892  0.95578416 0.9731918  0.96860248 0.9515174 ]\n"
     ]
    }
   ],
   "source": [
    "cross = cvs(gbm_2, test_data, test_target, cv=6, scoring='r2')\n",
    "print(round(np.mean(cross), 2), round(np.std(cross), 4))\n",
    "print(cross)"
   ]
  },
  {
   "cell_type": "code",
   "execution_count": 104,
   "id": "84bcdc84",
   "metadata": {},
   "outputs": [
    {
     "name": "stdout",
     "output_type": "stream",
     "text": [
      "155848.39  - средняя абсолютная ошибка (RUB)\n"
     ]
    }
   ],
   "source": [
    "print(round(mae(y_true=test_target, y_pred=gbm_2.predict(test_data)), 2), ' - средняя абсолютная ошибка (RUB)')"
   ]
  },
  {
   "cell_type": "markdown",
   "id": "839793f8",
   "metadata": {},
   "source": [
    "   "
   ]
  },
  {
   "cell_type": "code",
   "execution_count": 100,
   "id": "0ba65640",
   "metadata": {
    "scrolled": false
   },
   "outputs": [
    {
     "name": "stdout",
     "output_type": "stream",
     "text": [
      "   Feature  Importance\n",
      "0        0    0.408357\n",
      "1        1    0.087745\n",
      "2        2    0.210012\n",
      "3        3    0.206770\n",
      "4        4    0.062657\n",
      "5        5    0.000000\n",
      "6        6    0.001702\n",
      "7        7    0.018453\n",
      "8        8    0.004304\n"
     ]
    },
    {
     "data": {
      "image/png": "[encoded data removed]",
      "text/plain": [
       "<Figure size 1008x504 with 1 Axes>"
      ]
     },
     "metadata": {
      "needs_background": "light"
     },
     "output_type": "display_data"
    }
   ],
   "source": [
    "feat_imp = pd.DataFrame(data={'Feature': df.columns,\n",
    "                              'Importance': gbm_2.feature_importances_})\n",
    "print(feat_imp)\n",
    "\n",
    "plt.figure(figsize=(14,7))\n",
    "plt.title('Вклад каждого признака в построение модели')\n",
    "sns.barplot(x=df.columns, y=gbm_2.feature_importances_, palette=sns.color_palette('bright', as_cmap=True))\n",
    "plt.show()"
   ]
  },
  {
   "cell_type": "markdown",
   "id": "861c0d2c",
   "metadata": {},
   "source": [
    "------"
   ]
  },
  {
   "cell_type": "markdown",
   "id": "2bfce140",
   "metadata": {},
   "source": [
    "# Небольшой итоговый отчет по моделям"
   ]
  },
  {
   "cell_type": "markdown",
   "id": "174ec363",
   "metadata": {},
   "source": [
    "5 примеров реальных квартир с правдоподобными ценами на момент создания датасета. С помощью них будем подводить наш *некорректный* итог"
   ]
  },
  {
   "cell_type": "code",
   "execution_count": 11,
   "id": "f3729cf3",
   "metadata": {},
   "outputs": [
    {
     "data": {
      "text/plain": [
       "(9,)"
      ]
     },
     "execution_count": 11,
     "metadata": {},
     "output_type": "execute_result"
    }
   ],
   "source": [
    "flat_data = np.array([42,2,57.9923266,55.9269021,5,0,1,0,0]) # двушка 42м на Магистральной ~2500000\n",
    "flat_data2 = np.array([32,1,58.0129377,55.9670637,5,1,0,0,0]) # однушка 32м на Ямпольской ~1700000\n",
    "flat_data3 = np.array([88.2,2,58.0103762,56.2444499,6,1,0,0,0]) # новостройка с Циана - цена 7.7 млн\n",
    "flat_data4 = np.array([41.4,1,58.0320633,56.3107575,10,0,1,0,0]) # новостройка 41м цена 4 млн\n",
    "flat_data5 = np.array([91.5,3,58.0133336,56.2215909,14,0,0,1,0]) # новостройка 91м цена 9.2 млн\n",
    "\n",
    "nov_fl = [flat_data3, flat_data4, flat_data5]\n",
    "nov_fl_target = [7700000, 4000000, 9200000]\n",
    "\n",
    "flat_data.shape"
   ]
  },
  {
   "cell_type": "code",
   "execution_count": 12,
   "id": "353be3cd",
   "metadata": {},
   "outputs": [
    {
     "name": "stdout",
     "output_type": "stream",
     "text": [
      "19296.41 - средняя абсолютная ошибка (RUB)\n",
      "\n",
      "4049003 --- вторичка 42м на Магистральной ~2.4 млн\n",
      "2906539 --- вторичка 32м на Ямпольской ~1.7 млн\n",
      "\n",
      "9632577 ---  новостройка с Циана - цена 7.7 млн руб\n",
      "3519093 ---  новостройка 41м цена 4 млн\n",
      "8807251 ---  новостройка 91м цена 9.2 млн\n",
      "\n",
      "935411.0 - абсолютная ошибка по 3м новостройкам\n"
     ]
    }
   ],
   "source": [
    "# random forest\n",
    "\n",
    "print(round(mae(y_true=test_target, y_pred=rf.predict(test_data)), 2), '- средняя абсолютная ошибка (RUB)',\n",
    "      end='\\n\\n')\n",
    "\n",
    "print(f'{int(rf.predict(flat_data.reshape(1,-1)))} --- вторичка 42м на Магистральной ~2.4 млн')\n",
    "print(f'{int(rf.predict(flat_data2.reshape(1,-1)))} --- вторичка 32м на Ямпольской ~1.7 млн')\n",
    "print()\n",
    "print(f'{int(rf.predict(flat_data3.reshape(1,-1)))} ---  новостройка с Циана - цена 7.7 млн руб')\n",
    "print(f'{int(rf.predict(flat_data4.reshape(1,-1)))} ---  новостройка 41м цена 4 млн')\n",
    "print(f'{int(rf.predict(flat_data5.reshape(1,-1)))} ---  новостройка 91м цена 9.2 млн')\n",
    "\n",
    "print()\n",
    "print(\n",
    "    sum(abs(int(rf.predict(nov_data.reshape(1,-1)))-y) for nov_data, y in zip(nov_fl, nov_fl_target))/3,\n",
    "    '- абсолютная ошибка по 3м новостройкам'\n",
    ")"
   ]
  },
  {
   "cell_type": "code",
   "execution_count": null,
   "id": "2f92dad9",
   "metadata": {},
   "outputs": [],
   "source": [
    "# df, target = all_data_tranforms(dataset, ff=False)\n",
    "\n",
    "# old_lin = \n",
    "# print(f'{int(np.exp(gbm.predict(flat_data3.reshape(1,-1))))} --- новостройка с Циана - цена 7.7 млн')\n",
    "# print(f'{int(np.exp(gbm.predict(flat_data4.reshape(1,-1))))} --- новостройка 41м цена 4 млн')\n",
    "# print(f'{int(np.exp(gbm.predict(flat_data5.reshape(1,-1))))} --- новостройка 91м цена 9.2 млн')\n",
    "\n",
    "# print(f'{int(gbm_2.predict(flat_data.reshape(1,-1)))} --- вторичка 42м на Магистральной ~2.4 млн')\n",
    "# print(f'{int(gbm_2.predict(flat_data2.reshape(1,-1)))} --- вторичка 32м на Ямпольской ~1.7 млн')\n",
    "# print(f'{int(gbm_2.predict(flat_data3.reshape(1,-1)))} ---  новостройка с Циана - цена 7.7 млн руб')\n",
    "# print(f'{int(gbm_2.predict(flat_data4.reshape(1,-1)))} ---  новостройка 41м цена 4 млн')\n",
    "# print(f'{int(gbm_2.predict(flat_data5.reshape(1,-1)))} ---  новостройка 91м цена 9.2 млн')"
   ]
  },
  {
   "cell_type": "code",
   "execution_count": 110,
   "id": "6d8aa55a",
   "metadata": {},
   "outputs": [
    {
     "name": "stdout",
     "output_type": "stream",
     "text": [
      "155848.39 - средняя абсолютная ошибка (RUB)\n",
      "\n",
      "3779070 --- вторичка 42м на Магистральной ~2.4 млн\n",
      "3322784 --- вторичка 32м на Ямпольской ~1.7 млн\n",
      "\n",
      "7282501 ---  новостройка с Циана - цена 7.7 млн руб\n",
      "3881222 ---  новостройка 41м цена 4 млн\n",
      "7500488 ---  новостройка 91м цена 9.2 млн\n",
      "\n",
      "745263.0 - абсолютная ошибка по 3м новостройкам\n"
     ]
    }
   ],
   "source": [
    "print(round(mae(y_true=test_target, y_pred=gbm_2.predict(test_data)), 2), '- средняя абсолютная ошибка (RUB)',\n",
    "      end='\\n\\n')\n",
    "\n",
    "print(f'{int(gbm_2.predict(flat_data.reshape(1,-1)))} --- вторичка 42м на Магистральной ~2.4 млн')\n",
    "print(f'{int(gbm_2.predict(flat_data2.reshape(1,-1)))} --- вторичка 32м на Ямпольской ~1.7 млн')\n",
    "print()\n",
    "print(f'{int(gbm_2.predict(flat_data3.reshape(1,-1)))} ---  новостройка с Циана - цена 7.7 млн руб')\n",
    "print(f'{int(gbm_2.predict(flat_data4.reshape(1,-1)))} ---  новостройка 41м цена 4 млн')\n",
    "print(f'{int(gbm_2.predict(flat_data5.reshape(1,-1)))} ---  новостройка 91м цена 9.2 млн')\n",
    "\n",
    "print()\n",
    "print(\n",
    "    sum(abs(int(gbm_2.predict(nov_data.reshape(1,-1)))-y) for nov_data, y in zip(nov_fl, nov_fl_target))/3,\n",
    "    '- абсолютная ошибка по 3м новостройкам'\n",
    ")"
   ]
  },
  {
   "cell_type": "markdown",
   "id": "8395783d",
   "metadata": {},
   "source": [
    "## linear again"
   ]
  },
  {
   "cell_type": "code",
   "execution_count": 58,
   "id": "5d3df78b",
   "metadata": {},
   "outputs": [
    {
     "name": "stdout",
     "output_type": "stream",
     "text": [
      "679689.26 - средняя абсолютная ошибка (RUB)\n",
      "\n",
      "3631124 --- вторичка 42м на Магистральной ~2.4 млн\n",
      "2815124 --- вторичка 32м на Ямпольской ~1.7 млн\n",
      "\n",
      "7496715 ---  новостройка с Циана - цена 7.7 млн руб\n",
      "3731602 ---  новостройка 41м цена 4 млн\n",
      "8152945 ---  новостройка 91м цена 9.2 млн\n",
      "\n",
      "506246.0 - абсолютная ошибка по 3м новостройкам\n"
     ]
    }
   ],
   "source": [
    "df, target = all_data_tranforms(dataset, ff=False, tar_norm=False, stand_sc=False)\n",
    "\n",
    "train_data, test_data, train_target, test_target = train_test_split(\n",
    "    df, target, test_size=0.2, random_state=2\n",
    ")\n",
    "\n",
    "lin_2 = LinearRegression().fit(train_data, train_target)\n",
    "\n",
    "print(round(mae(y_true=test_target, y_pred=lin_2.predict(test_data)), 2), '- средняя абсолютная ошибка (RUB)',\n",
    "      end='\\n\\n')\n",
    "\n",
    "print(f'{int(lin_2.predict(flat_data.reshape(1,-1)))} --- вторичка 42м на Магистральной ~2.4 млн')\n",
    "print(f'{int(lin_2.predict(flat_data2.reshape(1,-1)))} --- вторичка 32м на Ямпольской ~1.7 млн')\n",
    "print()\n",
    "print(f'{int(lin_2.predict(flat_data3.reshape(1,-1)))} ---  новостройка с Циана - цена 7.7 млн руб')\n",
    "print(f'{int(lin_2.predict(flat_data4.reshape(1,-1)))} ---  новостройка 41м цена 4 млн')\n",
    "print(f'{int(lin_2.predict(flat_data5.reshape(1,-1)))} ---  новостройка 91м цена 9.2 млн')\n",
    "\n",
    "print()\n",
    "print(\n",
    "    sum(abs(int(lin_2.predict(nov_data.reshape(1,-1)))-y) for nov_data, y in zip(nov_fl, nov_fl_target))/3,\n",
    "    '- абсолютная ошибка по 3м новостройкам'\n",
    ")"
   ]
  },
  {
   "cell_type": "code",
   "execution_count": 25,
   "id": "f0c00905",
   "metadata": {},
   "outputs": [
    {
     "name": "stdout",
     "output_type": "stream",
     "text": [
      "128014.21 - средняя абсолютная ошибка (RUB)\n",
      "\n",
      "3994692 --- вторичка 42м на Магистральной ~2.4 млн\n",
      "2951359 --- вторичка 32м на Ямпольской ~1.7 млн\n",
      "\n",
      "9474023 ---  новостройка с Циана - цена 7.7 млн руб\n",
      "3496940 ---  новостройка 41м цена 4 млн\n",
      "8911097 ---  новостройка 91м цена 9.2 млн\n",
      "\n",
      "855328.67 - абсолютная ошибка по 3м новостройкам\n"
     ]
    }
   ],
   "source": [
    "print(round(mae(y_true=test_target, y_pred=rf.predict(test_data)), 2), '- средняя абсолютная ошибка (RUB)',\n",
    "      end='\\n\\n')\n",
    "\n",
    "print(f'{int(rf.predict(flat_data.reshape(1,-1)))} --- вторичка 42м на Магистральной ~2.4 млн')\n",
    "print(f'{int(rf.predict(flat_data2.reshape(1,-1)))} --- вторичка 32м на Ямпольской ~1.7 млн')\n",
    "print()\n",
    "print(f'{int(rf.predict(flat_data3.reshape(1,-1)))} ---  новостройка с Циана - цена 7.7 млн руб')\n",
    "print(f'{int(rf.predict(flat_data4.reshape(1,-1)))} ---  новостройка 41м цена 4 млн')\n",
    "print(f'{int(rf.predict(flat_data5.reshape(1,-1)))} ---  новостройка 91м цена 9.2 млн')\n",
    "\n",
    "print()\n",
    "print(round(\n",
    "    sum(abs(int(rf.predict(nov_data.reshape(1,-1)))-y) for nov_data, y in zip(nov_fl, nov_fl_target))/3,2),\n",
    "    '- абсолютная ошибка по 3м новостройкам'\n",
    ")"
   ]
  },
  {
   "cell_type": "markdown",
   "id": "8ebd666f",
   "metadata": {},
   "source": [
    "---"
   ]
  },
  {
   "cell_type": "markdown",
   "id": "a99e9312",
   "metadata": {},
   "source": [
    "# Промежуточный итог и выводы"
   ]
  },
  {
   "cell_type": "markdown",
   "id": "6b3c0753",
   "metadata": {},
   "source": [
    "Финальная проверка на 5 случайных квартирах из другого агрегатора (и из жизни) несостоятельна. Слишком мал размер такого тестового множества - это во-первых. Можно справедливо предположить, что 3 новостройки с агрегатора Циан в принципе являются представителями другой совокупности данных, проще говоря они сгруппированы на Циан не просто так, между пользователями и самими квартирами с 2х сайтов также могут быть различия (например, возможно, что Циан чаще используют более состоятельные собственники или вообще нанятые ими риелторы, что создает свою специфику предложенных на сайте квартир) - это во-вторых.\n",
    "\n",
    "### Выводы\n",
    " - Итоговый датасет включает чуть менее 4к сэмплов с суммарно 8 признаками - это мало. Для создания более-менее универсальной модели должны быть добавлены данные с других агрегаторов этого сегмента недвижимости с большей информацией (большим количеством фичей фичами).\n",
    " - По моделям: обобщающие способности практически всех испробованных моделей (кроме простой лин регрессии) довольно хорошие в плане прикладной стороны - предсказывать цену квартиры со средним диапазоном ошибки в 240-300 тыс рублей, довольно здорово. Но на мысль о переобучении (и слабом качестве набора данных) наталкивают последние *тесты* на 3 квартирах сторонней платформы. А на факт узкой специализации наталкивает факт дисбаланса новостроек/вторичек в пользу первых"
   ]
  }
 ],
 "metadata": {
  "kernelspec": {
   "display_name": "Python 3 (ipykernel)",
   "language": "python",
   "name": "python3"
  },
  "language_info": {
   "codemirror_mode": {
    "name": "ipython",
    "version": 3
   },
   "file_extension": ".py",
   "mimetype": "text/x-python",
   "name": "python",
   "nbconvert_exporter": "python",
   "pygments_lexer": "ipython3",
   "version": "3.9.6"
  }
 },
 "nbformat": 4,
 "nbformat_minor": 5
}
